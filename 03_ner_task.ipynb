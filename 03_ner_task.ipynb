{
 "cells": [
  {
   "attachments": {},
   "cell_type": "markdown",
   "metadata": {},
   "source": [
    "# Named entity recognition\n",
    "\n",
    "Time to get our hands dirty with some analysis!\n",
    "\n",
    "First, off choose a dataset that you want to work with. "
   ]
  },
  {
   "cell_type": "code",
   "execution_count": 1,
   "metadata": {},
   "outputs": [
    {
     "name": "stdout",
     "output_type": "stream",
     "text": [
      "/work/795173/deduped/au.dk_deduped.ndjson\n"
     ]
    }
   ],
   "source": [
    "from pathlib import Path\n",
    "import os\n",
    "# These are your options from the webscrape\n",
    "# uncomment one of the files to load it\n",
    "# if you want to use the twitter data, uncomment the `data_dir` to the twitter data\n",
    "# and uncomment one of the twitter files\n",
    "\n",
    "\n",
    "data_dir = Path(os.path.abspath(\"\")).parent / \"795173\" / \"deduped\"\n",
    "file = \"au.dk_deduped.ndjson\"\n",
    "# file = \"kursuskatalog.au.dk_deduped.ndjson\"\n",
    "# file = \"medarbejdere.au.dk_deduped.ndjson\"\n",
    "# file = \"studerende.au.dk_deduped.ndjson\"\n",
    "\n",
    "# twitter data\n",
    "# data_dir = Path(os.path.abspath(\"\")).parent / \"795173\" / \"au-twitter\"\n",
    "# file = \"from_Aarhus_BSS_2007-01-01_2023-06-19.ndjson\"\n",
    "# file = \"from_AarhusUni_2007-01-01_2023-06-19.ndjson\"\n",
    "# file = \"from_AarhusUni_int_2007-01-01_2023-06-19.ndjson\"\n",
    "# file = \"from_AUforsker_2007-01-01_2023-06-19.ndjson\"\n",
    "# file = \"from_Nat_AU_Dean_2007-01-01_2023-06-19.ndjson\"\n",
    "# file = \"from_StudyAarhusUni_2007-01-01_2023-06-19.ndjson\"\n",
    "\n",
    "data_path = data_dir / file\n",
    "print(data_path)"
   ]
  },
  {
   "cell_type": "code",
   "execution_count": 2,
   "metadata": {},
   "outputs": [],
   "source": [
    "import pandas as pd\n",
    "\n",
    "data = pd.read_json(data_path, lines=True)"
   ]
  },
  {
   "cell_type": "code",
   "execution_count": 3,
   "metadata": {},
   "outputs": [
    {
     "data": {
      "text/html": [
       "<div>\n",
       "<style scoped>\n",
       "    .dataframe tbody tr th:only-of-type {\n",
       "        vertical-align: middle;\n",
       "    }\n",
       "\n",
       "    .dataframe tbody tr th {\n",
       "        vertical-align: top;\n",
       "    }\n",
       "\n",
       "    .dataframe thead th {\n",
       "        text-align: right;\n",
       "    }\n",
       "</style>\n",
       "<table border=\"1\" class=\"dataframe\">\n",
       "  <thead>\n",
       "    <tr style=\"text-align: right;\">\n",
       "      <th></th>\n",
       "      <th>url</th>\n",
       "      <th>text</th>\n",
       "    </tr>\n",
       "  </thead>\n",
       "  <tbody>\n",
       "    <tr>\n",
       "      <th>0</th>\n",
       "      <td>https://au.dk/nyheder/browse/204</td>\n",
       "      <td>Samarbejde med forskere Samarbejde med studere...</td>\n",
       "    </tr>\n",
       "    <tr>\n",
       "      <th>1</th>\n",
       "      <td>https://au.dk/nyheder/browse/301</td>\n",
       "      <td>Samarbejde med forskere Samarbejde med studere...</td>\n",
       "    </tr>\n",
       "    <tr>\n",
       "      <th>2</th>\n",
       "      <td>https://au.dk/nyheder/artikel/ny-erkendelse-me...</td>\n",
       "      <td>Ny erkendelse medførte ændret estimat af kvæls...</td>\n",
       "    </tr>\n",
       "    <tr>\n",
       "      <th>3</th>\n",
       "      <td>https://au.dk/evu/generel-information</td>\n",
       "      <td>Samarbejde med forskere Samarbejde med studere...</td>\n",
       "    </tr>\n",
       "    <tr>\n",
       "      <th>4</th>\n",
       "      <td>https://au.dk/subuniversity/for-gymnasieelever...</td>\n",
       "      <td>Samarbejde med forskere Samarbejde med studere...</td>\n",
       "    </tr>\n",
       "    <tr>\n",
       "      <th>...</th>\n",
       "      <td>...</td>\n",
       "      <td>...</td>\n",
       "    </tr>\n",
       "    <tr>\n",
       "      <th>2168</th>\n",
       "      <td>https://au.dk/auchallenge/contact</td>\n",
       "      <td>Samarbejde med forskere Samarbejde med studere...</td>\n",
       "    </tr>\n",
       "    <tr>\n",
       "      <th>2169</th>\n",
       "      <td>https://au.dk/en/informationsecurity/annualpla...</td>\n",
       "      <td>Step 3: CHECK: Follow up Information Security ...</td>\n",
       "    </tr>\n",
       "    <tr>\n",
       "      <th>2170</th>\n",
       "      <td>https://au.dk/om/organisation/regelsamling/4/4...</td>\n",
       "      <td>Samarbejde med forskere Samarbejde med studere...</td>\n",
       "    </tr>\n",
       "    <tr>\n",
       "      <th>2171</th>\n",
       "      <td>https://au.dk/nyheder/artikel/skoldkoppevirus-...</td>\n",
       "      <td>Skoldkoppevirus livsfarlig ved nyopdaget immun...</td>\n",
       "    </tr>\n",
       "    <tr>\n",
       "      <th>2172</th>\n",
       "      <td>https://au.dk/en/informationsecurity/data-prot...</td>\n",
       "      <td>Register a biobank or database for future rese...</td>\n",
       "    </tr>\n",
       "  </tbody>\n",
       "</table>\n",
       "<p>2173 rows × 2 columns</p>\n",
       "</div>"
      ],
      "text/plain": [
       "                                                    url  \\\n",
       "0                      https://au.dk/nyheder/browse/204   \n",
       "1                      https://au.dk/nyheder/browse/301   \n",
       "2     https://au.dk/nyheder/artikel/ny-erkendelse-me...   \n",
       "3                 https://au.dk/evu/generel-information   \n",
       "4     https://au.dk/subuniversity/for-gymnasieelever...   \n",
       "...                                                 ...   \n",
       "2168                  https://au.dk/auchallenge/contact   \n",
       "2169  https://au.dk/en/informationsecurity/annualpla...   \n",
       "2170  https://au.dk/om/organisation/regelsamling/4/4...   \n",
       "2171  https://au.dk/nyheder/artikel/skoldkoppevirus-...   \n",
       "2172  https://au.dk/en/informationsecurity/data-prot...   \n",
       "\n",
       "                                                   text  \n",
       "0     Samarbejde med forskere Samarbejde med studere...  \n",
       "1     Samarbejde med forskere Samarbejde med studere...  \n",
       "2     Ny erkendelse medførte ændret estimat af kvæls...  \n",
       "3     Samarbejde med forskere Samarbejde med studere...  \n",
       "4     Samarbejde med forskere Samarbejde med studere...  \n",
       "...                                                 ...  \n",
       "2168  Samarbejde med forskere Samarbejde med studere...  \n",
       "2169  Step 3: CHECK: Follow up Information Security ...  \n",
       "2170  Samarbejde med forskere Samarbejde med studere...  \n",
       "2171  Skoldkoppevirus livsfarlig ved nyopdaget immun...  \n",
       "2172  Register a biobank or database for future rese...  \n",
       "\n",
       "[2173 rows x 2 columns]"
      ]
     },
     "execution_count": 3,
     "metadata": {},
     "output_type": "execute_result"
    }
   ],
   "source": [
    "data"
   ]
  },
  {
   "attachments": {},
   "cell_type": "markdown",
   "metadata": {},
   "source": [
    "## Getting started\n",
    "\n",
    "To get you started, let's extract the most commonly occuring named entities across your chosen data file. \n",
    "\n",
    "We will do this by feeding text to a spacy pipeline, extracting the entities, and saving them. Lastly, we'll count how often each type of entity occurs, and which ones are the most commonly occuring.\n",
    "\n",
    "### Challenge\n",
    "**Reflection:**\n",
    "* Should you clean the data before running this analysis? If so, what would you do?"
   ]
  },
  {
   "attachments": {},
   "cell_type": "markdown",
   "metadata": {},
   "source": [
    "Before we start, let's take a random sample of 150 websites to speed things up a bit."
   ]
  },
  {
   "cell_type": "code",
   "execution_count": 4,
   "metadata": {},
   "outputs": [
    {
     "data": {
      "text/html": [
       "<div>\n",
       "<style scoped>\n",
       "    .dataframe tbody tr th:only-of-type {\n",
       "        vertical-align: middle;\n",
       "    }\n",
       "\n",
       "    .dataframe tbody tr th {\n",
       "        vertical-align: top;\n",
       "    }\n",
       "\n",
       "    .dataframe thead th {\n",
       "        text-align: right;\n",
       "    }\n",
       "</style>\n",
       "<table border=\"1\" class=\"dataframe\">\n",
       "  <thead>\n",
       "    <tr style=\"text-align: right;\">\n",
       "      <th></th>\n",
       "      <th>url</th>\n",
       "      <th>text</th>\n",
       "    </tr>\n",
       "  </thead>\n",
       "  <tbody>\n",
       "    <tr>\n",
       "      <th>194</th>\n",
       "      <td>https://au.dk/samarbejde/vis-nyhed/artikel/aar...</td>\n",
       "      <td>Aarhus Universitet modtager stor Innovations- ...</td>\n",
       "    </tr>\n",
       "    <tr>\n",
       "      <th>303</th>\n",
       "      <td>https://au.dk/subuniversity/for-gymnasieelever...</td>\n",
       "      <td>Samarbejde med forskere Samarbejde med studere...</td>\n",
       "    </tr>\n",
       "    <tr>\n",
       "      <th>1205</th>\n",
       "      <td>https://au.dk/om/organisation/regelsamling/6/6...</td>\n",
       "      <td>Samarbejde med forskere Samarbejde med studere...</td>\n",
       "    </tr>\n",
       "    <tr>\n",
       "      <th>1695</th>\n",
       "      <td>https://au.dk/nyheder/browse/88</td>\n",
       "      <td>Samarbejde med forskere Samarbejde med studere...</td>\n",
       "    </tr>\n",
       "    <tr>\n",
       "      <th>1981</th>\n",
       "      <td>https://au.dk/searchtest/organisering</td>\n",
       "      <td>Samarbejde med forskere Samarbejde med studere...</td>\n",
       "    </tr>\n",
       "    <tr>\n",
       "      <th>...</th>\n",
       "      <td>...</td>\n",
       "      <td>...</td>\n",
       "    </tr>\n",
       "    <tr>\n",
       "      <th>245</th>\n",
       "      <td>https://au.dk/nyheder/artikel/jens-peter-chris...</td>\n",
       "      <td>Jens Peter Christensen træder ind i Aarhus Uni...</td>\n",
       "    </tr>\n",
       "    <tr>\n",
       "      <th>57</th>\n",
       "      <td>https://au.dk/nyheder/artikel/priser-til-fem-t...</td>\n",
       "      <td>Priser til fem talentfulde ph.d.er Aarhus Univ...</td>\n",
       "    </tr>\n",
       "    <tr>\n",
       "      <th>1422</th>\n",
       "      <td>https://au.dk/nyheder/browse/202</td>\n",
       "      <td>Samarbejde med forskere Samarbejde med studere...</td>\n",
       "    </tr>\n",
       "    <tr>\n",
       "      <th>840</th>\n",
       "      <td>https://au.dk/nyheder/artikel/stor-konference-...</td>\n",
       "      <td>maj 2017 åbner Aarhus Universitet dørene for é...</td>\n",
       "    </tr>\n",
       "    <tr>\n",
       "      <th>191</th>\n",
       "      <td>https://au.dk/nyheder/artikel/au-challenge-fin...</td>\n",
       "      <td>Samarbejde med forskere Samarbejde med studere...</td>\n",
       "    </tr>\n",
       "  </tbody>\n",
       "</table>\n",
       "<p>150 rows × 2 columns</p>\n",
       "</div>"
      ],
      "text/plain": [
       "                                                    url  \\\n",
       "194   https://au.dk/samarbejde/vis-nyhed/artikel/aar...   \n",
       "303   https://au.dk/subuniversity/for-gymnasieelever...   \n",
       "1205  https://au.dk/om/organisation/regelsamling/6/6...   \n",
       "1695                    https://au.dk/nyheder/browse/88   \n",
       "1981              https://au.dk/searchtest/organisering   \n",
       "...                                                 ...   \n",
       "245   https://au.dk/nyheder/artikel/jens-peter-chris...   \n",
       "57    https://au.dk/nyheder/artikel/priser-til-fem-t...   \n",
       "1422                   https://au.dk/nyheder/browse/202   \n",
       "840   https://au.dk/nyheder/artikel/stor-konference-...   \n",
       "191   https://au.dk/nyheder/artikel/au-challenge-fin...   \n",
       "\n",
       "                                                   text  \n",
       "194   Aarhus Universitet modtager stor Innovations- ...  \n",
       "303   Samarbejde med forskere Samarbejde med studere...  \n",
       "1205  Samarbejde med forskere Samarbejde med studere...  \n",
       "1695  Samarbejde med forskere Samarbejde med studere...  \n",
       "1981  Samarbejde med forskere Samarbejde med studere...  \n",
       "...                                                 ...  \n",
       "245   Jens Peter Christensen træder ind i Aarhus Uni...  \n",
       "57    Priser til fem talentfulde ph.d.er Aarhus Univ...  \n",
       "1422  Samarbejde med forskere Samarbejde med studere...  \n",
       "840   maj 2017 åbner Aarhus Universitet dørene for é...  \n",
       "191   Samarbejde med forskere Samarbejde med studere...  \n",
       "\n",
       "[150 rows x 2 columns]"
      ]
     },
     "execution_count": 4,
     "metadata": {},
     "output_type": "execute_result"
    }
   ],
   "source": [
    "data = data.sample(150, random_state=0)\n",
    "data"
   ]
  },
  {
   "cell_type": "code",
   "execution_count": 5,
   "metadata": {},
   "outputs": [
    {
     "name": "stderr",
     "output_type": "stream",
     "text": [
      "/home/ucloud/.local/lib/python3.10/site-packages/tqdm/auto.py:21: TqdmWarning: IProgress not found. Please update jupyter and ipywidgets. See https://ipywidgets.readthedocs.io/en/stable/user_install.html\n",
      "  from .autonotebook import tqdm as notebook_tqdm\n"
     ]
    },
    {
     "data": {
      "text/html": [
       "<div>\n",
       "<style scoped>\n",
       "    .dataframe tbody tr th:only-of-type {\n",
       "        vertical-align: middle;\n",
       "    }\n",
       "\n",
       "    .dataframe tbody tr th {\n",
       "        vertical-align: top;\n",
       "    }\n",
       "\n",
       "    .dataframe thead th {\n",
       "        text-align: right;\n",
       "    }\n",
       "</style>\n",
       "<table border=\"1\" class=\"dataframe\">\n",
       "  <thead>\n",
       "    <tr style=\"text-align: right;\">\n",
       "      <th></th>\n",
       "      <th>text</th>\n",
       "      <th>entity_type</th>\n",
       "    </tr>\n",
       "  </thead>\n",
       "  <tbody>\n",
       "    <tr>\n",
       "      <th>0</th>\n",
       "      <td>Aarhus Universitet</td>\n",
       "      <td>ORG</td>\n",
       "    </tr>\n",
       "    <tr>\n",
       "      <th>1</th>\n",
       "      <td>Aarhus Universitets</td>\n",
       "      <td>ORG</td>\n",
       "    </tr>\n",
       "    <tr>\n",
       "      <th>2</th>\n",
       "      <td>Institutter</td>\n",
       "      <td>ORG</td>\n",
       "    </tr>\n",
       "    <tr>\n",
       "      <th>3</th>\n",
       "      <td>Bibliotek Presse Brightspace MITSTUDIE.AU.DK</td>\n",
       "      <td>ORG</td>\n",
       "    </tr>\n",
       "    <tr>\n",
       "      <th>4</th>\n",
       "      <td>AU</td>\n",
       "      <td>ORG</td>\n",
       "    </tr>\n",
       "    <tr>\n",
       "      <th>...</th>\n",
       "      <td>...</td>\n",
       "      <td>...</td>\n",
       "    </tr>\n",
       "    <tr>\n",
       "      <th>4984</th>\n",
       "      <td>danskerne</td>\n",
       "      <td>MISC</td>\n",
       "    </tr>\n",
       "    <tr>\n",
       "      <th>4985</th>\n",
       "      <td>Hedeselskabet</td>\n",
       "      <td>ORG</td>\n",
       "    </tr>\n",
       "    <tr>\n",
       "      <th>4986</th>\n",
       "      <td>dansk</td>\n",
       "      <td>MISC</td>\n",
       "    </tr>\n",
       "    <tr>\n",
       "      <th>4987</th>\n",
       "      <td>VisitDenmark</td>\n",
       "      <td>ORG</td>\n",
       "    </tr>\n",
       "    <tr>\n",
       "      <th>4988</th>\n",
       "      <td>Aarhus Kommune</td>\n",
       "      <td>LOC</td>\n",
       "    </tr>\n",
       "  </tbody>\n",
       "</table>\n",
       "<p>4989 rows × 2 columns</p>\n",
       "</div>"
      ],
      "text/plain": [
       "                                              text entity_type\n",
       "0                               Aarhus Universitet         ORG\n",
       "1                              Aarhus Universitets         ORG\n",
       "2                                      Institutter         ORG\n",
       "3     Bibliotek Presse Brightspace MITSTUDIE.AU.DK         ORG\n",
       "4                                               AU         ORG\n",
       "...                                            ...         ...\n",
       "4984                                     danskerne        MISC\n",
       "4985                                 Hedeselskabet         ORG\n",
       "4986                                         dansk        MISC\n",
       "4987                                  VisitDenmark         ORG\n",
       "4988                                Aarhus Kommune         LOC\n",
       "\n",
       "[4989 rows x 2 columns]"
      ]
     },
     "execution_count": 5,
     "metadata": {},
     "output_type": "execute_result"
    }
   ],
   "source": [
    "import spacy\n",
    "\n",
    "# load the spacy pipeline\n",
    "nlp = spacy.load(\"da_core_news_lg\")\n",
    "\n",
    "# feed the 'text' column to the model\n",
    "docs = nlp.pipe(data[\"text\"])\n",
    "\n",
    "# extract named entities\n",
    "entities_and_types = []\n",
    "for webpages in docs:\n",
    "    for entity in webpages.ents:\n",
    "        entities_and_types.append((entity.text, entity.label_))\n",
    "\n",
    "# create a dataframe\n",
    "entities_and_types_df = pd.DataFrame(entities_and_types, columns=[\"text\", \"entity_type\"])\n",
    "\n",
    "entities_and_types_df\n"
   ]
  },
  {
   "attachments": {},
   "cell_type": "markdown",
   "metadata": {},
   "source": [
    "There we go - we now have a dataframe of all the named entities in our sample of webpages along with their entity type. Luckily, they seem to make sense - Brian Bech Nielsen and Dronning Margrete are both people, and AU is an organization. A few cases seem to be artefacts of the scraping procedure that weren't cleaned entirely. For instance, \"Whisteblowerordning Profil Strategi AU\" looks like a header from a webpage rather than an organization. \n",
    "\n",
    "Let's do a bit of exploratory data analysis to get a feel for the entities in the data."
   ]
  },
  {
   "cell_type": "code",
   "execution_count": 6,
   "metadata": {},
   "outputs": [
    {
     "data": {
      "text/plain": [
       "<Axes: ylabel='entity_type'>"
      ]
     },
     "execution_count": 6,
     "metadata": {},
     "output_type": "execute_result"
    },
    {
     "data": {
      "image/png": "[encoded data removed]",
      "text/plain": [
       "<Figure size 600x600 with 1 Axes>"
      ]
     },
     "metadata": {},
     "output_type": "display_data"
    }
   ],
   "source": [
    "# plot proportion of each entity\n",
    "entities_and_types_df[\"entity_type\"].value_counts().plot(kind=\"pie\", figsize=(6, 6), autopct='%1.1f%%')"
   ]
  },
  {
   "cell_type": "code",
   "execution_count": 7,
   "metadata": {},
   "outputs": [
    {
     "data": {
      "text/plain": [
       "Aarhus Universitet                         377\n",
       "AU                                         329\n",
       "Bæredygtighed Campus 2.0                   128\n",
       "AU Job-                                    120\n",
       "Whistleblowerordning Profil Strategi AU    120\n",
       "Gymnasieportalen                           120\n",
       "Aarhus Universitets                         59\n",
       "danske                                      57\n",
       "Aarhus                                      55\n",
       "Aarhus BSS                                  52\n",
       "Name: text, dtype: int64"
      ]
     },
     "execution_count": 7,
     "metadata": {},
     "output_type": "execute_result"
    }
   ],
   "source": [
    "# find 10 most common entities\n",
    "entities_and_types_df[\"text\"].value_counts().head(10)"
   ]
  },
  {
   "attachments": {},
   "cell_type": "markdown",
   "metadata": {},
   "source": [
    "### Challenge\n",
    "**Execution:**\n",
    "* Rerun the analysis but with a different sample of the data. Are the results stable?\n",
    "* Rerun the analysis with a different dataset. Are the results similar? \n",
    "* What are the most common organizations/locations/people?\n",
    "\n",
    "**Reflection:**\n",
    "* What use-cases do you see for named entity recognition in your organization? \n",
    "\n",
    "\n",
    "<details>\n",
    "<summary>Some examples to get you thinking</summary></br>\n",
    "Analysing named entities by webpage instead of across all pages. </br>\n",
    "</br> Finding the entities a Twitter user engages with the most <br>\n",
    "</br> Defining organization specific entities to extract <br>\n",
    "</br> \n",
    "</details>\n",
    "\n"
   ]
  },
  {
   "cell_type": "markdown",
   "metadata": {},
   "source": []
  },
  {
   "cell_type": "markdown",
   "metadata": {},
   "source": []
  }
 ],
 "metadata": {
  "kernelspec": {
   "display_name": "Python 3",
   "language": "python",
   "name": "python3"
  },
  "language_info": {
   "codemirror_mode": {
    "name": "ipython",
    "version": 3
   },
   "file_extension": ".py",
   "mimetype": "text/x-python",
   "name": "python",
   "nbconvert_exporter": "python",
   "pygments_lexer": "ipython3",
   "version": "3.10.7"
  },
  "orig_nbformat": 4
 },
 "nbformat": 4,
 "nbformat_minor": 2
}
