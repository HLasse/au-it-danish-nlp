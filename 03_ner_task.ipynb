{
 "cells": [
  {
   "attachments": {},
   "cell_type": "markdown",
   "metadata": {},
   "source": [
    "# Named entity recognition\n",
    "\n",
    "Time to get our hands dirty with some analysis!\n",
    "\n",
    "First, off choose a dataset that you want to work with. "
   ]
  },
  {
   "cell_type": "code",
   "execution_count": 13,
   "metadata": {},
   "outputs": [
    {
     "name": "stdout",
     "output_type": "stream",
     "text": [
      "/work/795173/deduped/au.dk_deduped.ndjson\n"
     ]
    }
   ],
   "source": [
    "from pathlib import Path\n",
    "import os\n",
    "# These are your options from the webscrape\n",
    "# uncomment one of the files to load it\n",
    "# if you want to use the twitter data, uncomment the `data_dir` to the twitter data\n",
    "# and uncomment one of the twitter files\n",
    "\n",
    "\n",
    "data_dir = Path(os.path.abspath(\"\")).parent / \"795173\" / \"deduped\"\n",
    "file = \"au.dk_deduped.ndjson\"\n",
    "# file = \"kursuskatalog.au.dk_deduped.ndjson\"\n",
    "# file = \"medarbejdere.au.dk_deduped.ndjson\"\n",
    "# file = \"studerende.au.dk_deduped.ndjson\"\n",
    "\n",
    "# twitter data\n",
    "# data_dir = Path(os.path.abspath(\"\")).parent / \"795173\" / \"au-twitter\"\n",
    "# file = \"from_Aarhus_BSS_2007-01-01_2023-06-19.ndjson\"\n",
    "# file = \"from_AarhusUni_2007-01-01_2023-06-19.ndjson\"\n",
    "# file = \"from_AarhusUni_int_2007-01-01_2023-06-19.ndjson\"\n",
    "# file = \"from_AUforsker_2007-01-01_2023-06-19.ndjson\"\n",
    "# file = \"from_Nat_AU_Dean_2007-01-01_2023-06-19.ndjson\"\n",
    "# file = \"from_StudyAarhusUni_2007-01-01_2023-06-19.ndjson\"\n",
    "\n",
    "data_path = data_dir / file\n",
    "print(data_path)"
   ]
  },
  {
   "cell_type": "code",
   "execution_count": 14,
   "metadata": {},
   "outputs": [],
   "source": [
    "import pandas as pd\n",
    "\n",
    "data = pd.read_json(data_path, lines=True)"
   ]
  },
  {
   "cell_type": "code",
   "execution_count": 15,
   "metadata": {},
   "outputs": [
    {
     "data": {
      "text/html": [
       "<div>\n",
       "<style scoped>\n",
       "    .dataframe tbody tr th:only-of-type {\n",
       "        vertical-align: middle;\n",
       "    }\n",
       "\n",
       "    .dataframe tbody tr th {\n",
       "        vertical-align: top;\n",
       "    }\n",
       "\n",
       "    .dataframe thead th {\n",
       "        text-align: right;\n",
       "    }\n",
       "</style>\n",
       "<table border=\"1\" class=\"dataframe\">\n",
       "  <thead>\n",
       "    <tr style=\"text-align: right;\">\n",
       "      <th></th>\n",
       "      <th>url</th>\n",
       "      <th>text</th>\n",
       "    </tr>\n",
       "  </thead>\n",
       "  <tbody>\n",
       "    <tr>\n",
       "      <th>0</th>\n",
       "      <td>https://au.dk/nyheder/browse/204</td>\n",
       "      <td>Samarbejde med forskere Samarbejde med studere...</td>\n",
       "    </tr>\n",
       "    <tr>\n",
       "      <th>1</th>\n",
       "      <td>https://au.dk/nyheder/browse/301</td>\n",
       "      <td>Samarbejde med forskere Samarbejde med studere...</td>\n",
       "    </tr>\n",
       "    <tr>\n",
       "      <th>2</th>\n",
       "      <td>https://au.dk/nyheder/artikel/ny-erkendelse-me...</td>\n",
       "      <td>Ny erkendelse medførte ændret estimat af kvæls...</td>\n",
       "    </tr>\n",
       "    <tr>\n",
       "      <th>3</th>\n",
       "      <td>https://au.dk/evu/generel-information</td>\n",
       "      <td>Samarbejde med forskere Samarbejde med studere...</td>\n",
       "    </tr>\n",
       "    <tr>\n",
       "      <th>4</th>\n",
       "      <td>https://au.dk/subuniversity/for-gymnasieelever...</td>\n",
       "      <td>Samarbejde med forskere Samarbejde med studere...</td>\n",
       "    </tr>\n",
       "    <tr>\n",
       "      <th>...</th>\n",
       "      <td>...</td>\n",
       "      <td>...</td>\n",
       "    </tr>\n",
       "    <tr>\n",
       "      <th>2168</th>\n",
       "      <td>https://au.dk/auchallenge/contact</td>\n",
       "      <td>Samarbejde med forskere Samarbejde med studere...</td>\n",
       "    </tr>\n",
       "    <tr>\n",
       "      <th>2169</th>\n",
       "      <td>https://au.dk/en/informationsecurity/annualpla...</td>\n",
       "      <td>Step 3: CHECK: Follow up Information Security ...</td>\n",
       "    </tr>\n",
       "    <tr>\n",
       "      <th>2170</th>\n",
       "      <td>https://au.dk/om/organisation/regelsamling/4/4...</td>\n",
       "      <td>Samarbejde med forskere Samarbejde med studere...</td>\n",
       "    </tr>\n",
       "    <tr>\n",
       "      <th>2171</th>\n",
       "      <td>https://au.dk/nyheder/artikel/skoldkoppevirus-...</td>\n",
       "      <td>Skoldkoppevirus livsfarlig ved nyopdaget immun...</td>\n",
       "    </tr>\n",
       "    <tr>\n",
       "      <th>2172</th>\n",
       "      <td>https://au.dk/en/informationsecurity/data-prot...</td>\n",
       "      <td>Register a biobank or database for future rese...</td>\n",
       "    </tr>\n",
       "  </tbody>\n",
       "</table>\n",
       "<p>2173 rows × 2 columns</p>\n",
       "</div>"
      ],
      "text/plain": [
       "                                                    url  \\\n",
       "0                      https://au.dk/nyheder/browse/204   \n",
       "1                      https://au.dk/nyheder/browse/301   \n",
       "2     https://au.dk/nyheder/artikel/ny-erkendelse-me...   \n",
       "3                 https://au.dk/evu/generel-information   \n",
       "4     https://au.dk/subuniversity/for-gymnasieelever...   \n",
       "...                                                 ...   \n",
       "2168                  https://au.dk/auchallenge/contact   \n",
       "2169  https://au.dk/en/informationsecurity/annualpla...   \n",
       "2170  https://au.dk/om/organisation/regelsamling/4/4...   \n",
       "2171  https://au.dk/nyheder/artikel/skoldkoppevirus-...   \n",
       "2172  https://au.dk/en/informationsecurity/data-prot...   \n",
       "\n",
       "                                                   text  \n",
       "0     Samarbejde med forskere Samarbejde med studere...  \n",
       "1     Samarbejde med forskere Samarbejde med studere...  \n",
       "2     Ny erkendelse medførte ændret estimat af kvæls...  \n",
       "3     Samarbejde med forskere Samarbejde med studere...  \n",
       "4     Samarbejde med forskere Samarbejde med studere...  \n",
       "...                                                 ...  \n",
       "2168  Samarbejde med forskere Samarbejde med studere...  \n",
       "2169  Step 3: CHECK: Follow up Information Security ...  \n",
       "2170  Samarbejde med forskere Samarbejde med studere...  \n",
       "2171  Skoldkoppevirus livsfarlig ved nyopdaget immun...  \n",
       "2172  Register a biobank or database for future rese...  \n",
       "\n",
       "[2173 rows x 2 columns]"
      ]
     },
     "execution_count": 15,
     "metadata": {},
     "output_type": "execute_result"
    }
   ],
   "source": [
    "data"
   ]
  },
  {
   "attachments": {},
   "cell_type": "markdown",
   "metadata": {},
   "source": [
    "## Getting started\n",
    "\n",
    "To get you started, let's extract the most commonly occuring named entities across your chosen data file. \n",
    "\n",
    "We will do this by feeding text to a spacy pipeline, extracting the entities, and saving them. Lastly, we'll count how often each type of entity occurs, and which ones are the most commonly occuring.\n",
    "\n",
    "### Challenge\n",
    "**Reflection:**\n",
    "* Should you clean the data before running this analysis? If so, what would you do?"
   ]
  },
  {
   "attachments": {},
   "cell_type": "markdown",
   "metadata": {},
   "source": [
    "Before we start, let's take a random sample of 150 websites to speed things up a bit."
   ]
  },
  {
   "cell_type": "code",
   "execution_count": 25,
   "metadata": {},
   "outputs": [
    {
     "data": {
      "text/html": [
       "<div>\n",
       "<style scoped>\n",
       "    .dataframe tbody tr th:only-of-type {\n",
       "        vertical-align: middle;\n",
       "    }\n",
       "\n",
       "    .dataframe tbody tr th {\n",
       "        vertical-align: top;\n",
       "    }\n",
       "\n",
       "    .dataframe thead th {\n",
       "        text-align: right;\n",
       "    }\n",
       "</style>\n",
       "<table border=\"1\" class=\"dataframe\">\n",
       "  <thead>\n",
       "    <tr style=\"text-align: right;\">\n",
       "      <th></th>\n",
       "      <th>url</th>\n",
       "      <th>text</th>\n",
       "    </tr>\n",
       "  </thead>\n",
       "  <tbody>\n",
       "    <tr>\n",
       "      <th>1261</th>\n",
       "      <td>https://au.dk/nyheder/artikel/hver-femte-dansk...</td>\n",
       "      <td>Samarbejde med forskere Samarbejde med studere...</td>\n",
       "    </tr>\n",
       "    <tr>\n",
       "      <th>78</th>\n",
       "      <td>https://au.dk/nyheder/artikel/brexit-how-will-...</td>\n",
       "      <td>Brexit – how will it affect you? Here you can ...</td>\n",
       "    </tr>\n",
       "    <tr>\n",
       "      <th>2158</th>\n",
       "      <td>https://au.dk/nyheder/artikel/topledere-fra-gy...</td>\n",
       "      <td>Samarbejde med forskere Samarbejde med studere...</td>\n",
       "    </tr>\n",
       "    <tr>\n",
       "      <th>826</th>\n",
       "      <td>https://au.dk/sfs/news/science-for-society-20</td>\n",
       "      <td>Samarbejde med forskere Samarbejde med studere...</td>\n",
       "    </tr>\n",
       "    <tr>\n",
       "      <th>1297</th>\n",
       "      <td>https://au.dk/en/about/uni</td>\n",
       "      <td>403 - siden er adgangsbegrænset / access is re...</td>\n",
       "    </tr>\n",
       "    <tr>\n",
       "      <th>...</th>\n",
       "      <td>...</td>\n",
       "      <td>...</td>\n",
       "    </tr>\n",
       "    <tr>\n",
       "      <th>932</th>\n",
       "      <td>https://au.dk/nyheder/artikel/flytning-i-to-et...</td>\n",
       "      <td>Samarbejde med forskere Samarbejde med studere...</td>\n",
       "    </tr>\n",
       "    <tr>\n",
       "      <th>625</th>\n",
       "      <td>https://au.dk/nyheder/browse/210</td>\n",
       "      <td>Samarbejde med forskere Samarbejde med studere...</td>\n",
       "    </tr>\n",
       "    <tr>\n",
       "      <th>697</th>\n",
       "      <td>https://au.dk/nyheder/artikel/aarhus-universit...</td>\n",
       "      <td>Samarbejde med forskere Samarbejde med studere...</td>\n",
       "    </tr>\n",
       "    <tr>\n",
       "      <th>1465</th>\n",
       "      <td>https://au.dk/nyheder/artikel/erhvervsdirektoe...</td>\n",
       "      <td>Samarbejde med forskere Samarbejde med studere...</td>\n",
       "    </tr>\n",
       "    <tr>\n",
       "      <th>1355</th>\n",
       "      <td>https://au.dk/nyheder/artikel/aarsfest-og-danm...</td>\n",
       "      <td>Samarbejde med forskere Samarbejde med studere...</td>\n",
       "    </tr>\n",
       "  </tbody>\n",
       "</table>\n",
       "<p>150 rows × 2 columns</p>\n",
       "</div>"
      ],
      "text/plain": [
       "                                                    url  \\\n",
       "1261  https://au.dk/nyheder/artikel/hver-femte-dansk...   \n",
       "78    https://au.dk/nyheder/artikel/brexit-how-will-...   \n",
       "2158  https://au.dk/nyheder/artikel/topledere-fra-gy...   \n",
       "826       https://au.dk/sfs/news/science-for-society-20   \n",
       "1297                         https://au.dk/en/about/uni   \n",
       "...                                                 ...   \n",
       "932   https://au.dk/nyheder/artikel/flytning-i-to-et...   \n",
       "625                    https://au.dk/nyheder/browse/210   \n",
       "697   https://au.dk/nyheder/artikel/aarhus-universit...   \n",
       "1465  https://au.dk/nyheder/artikel/erhvervsdirektoe...   \n",
       "1355  https://au.dk/nyheder/artikel/aarsfest-og-danm...   \n",
       "\n",
       "                                                   text  \n",
       "1261  Samarbejde med forskere Samarbejde med studere...  \n",
       "78    Brexit – how will it affect you? Here you can ...  \n",
       "2158  Samarbejde med forskere Samarbejde med studere...  \n",
       "826   Samarbejde med forskere Samarbejde med studere...  \n",
       "1297  403 - siden er adgangsbegrænset / access is re...  \n",
       "...                                                 ...  \n",
       "932   Samarbejde med forskere Samarbejde med studere...  \n",
       "625   Samarbejde med forskere Samarbejde med studere...  \n",
       "697   Samarbejde med forskere Samarbejde med studere...  \n",
       "1465  Samarbejde med forskere Samarbejde med studere...  \n",
       "1355  Samarbejde med forskere Samarbejde med studere...  \n",
       "\n",
       "[150 rows x 2 columns]"
      ]
     },
     "execution_count": 25,
     "metadata": {},
     "output_type": "execute_result"
    }
   ],
   "source": [
    "data = data.sample(150, random_state=0)\n",
    "data"
   ]
  },
  {
   "cell_type": "code",
   "execution_count": 26,
   "metadata": {},
   "outputs": [
    {
     "data": {
      "text/html": [
       "<div>\n",
       "<style scoped>\n",
       "    .dataframe tbody tr th:only-of-type {\n",
       "        vertical-align: middle;\n",
       "    }\n",
       "\n",
       "    .dataframe tbody tr th {\n",
       "        vertical-align: top;\n",
       "    }\n",
       "\n",
       "    .dataframe thead th {\n",
       "        text-align: right;\n",
       "    }\n",
       "</style>\n",
       "<table border=\"1\" class=\"dataframe\">\n",
       "  <thead>\n",
       "    <tr style=\"text-align: right;\">\n",
       "      <th></th>\n",
       "      <th>text</th>\n",
       "      <th>entity_type</th>\n",
       "    </tr>\n",
       "  </thead>\n",
       "  <tbody>\n",
       "    <tr>\n",
       "      <th>0</th>\n",
       "      <td>Gymnasieportalen</td>\n",
       "      <td>LOC</td>\n",
       "    </tr>\n",
       "    <tr>\n",
       "      <th>1</th>\n",
       "      <td>Whistleblowerordning Profil Strategi AU</td>\n",
       "      <td>ORG</td>\n",
       "    </tr>\n",
       "    <tr>\n",
       "      <th>2</th>\n",
       "      <td>Bæredygtighed Campus 2.0</td>\n",
       "      <td>ORG</td>\n",
       "    </tr>\n",
       "    <tr>\n",
       "      <th>3</th>\n",
       "      <td>AU Job-</td>\n",
       "      <td>ORG</td>\n",
       "    </tr>\n",
       "    <tr>\n",
       "      <th>4</th>\n",
       "      <td>AU</td>\n",
       "      <td>ORG</td>\n",
       "    </tr>\n",
       "    <tr>\n",
       "      <th>...</th>\n",
       "      <td>...</td>\n",
       "      <td>...</td>\n",
       "    </tr>\n",
       "    <tr>\n",
       "      <th>5569</th>\n",
       "      <td>Brian Bech Nielsen</td>\n",
       "      <td>PER</td>\n",
       "    </tr>\n",
       "    <tr>\n",
       "      <th>5570</th>\n",
       "      <td>Jubilæumsfondens</td>\n",
       "      <td>ORG</td>\n",
       "    </tr>\n",
       "    <tr>\n",
       "      <th>5571</th>\n",
       "      <td>H.K.H. Dronning Margrethe II</td>\n",
       "      <td>PER</td>\n",
       "    </tr>\n",
       "    <tr>\n",
       "      <th>5572</th>\n",
       "      <td>Berit Eika</td>\n",
       "      <td>PER</td>\n",
       "    </tr>\n",
       "    <tr>\n",
       "      <th>5573</th>\n",
       "      <td>Berit Eika</td>\n",
       "      <td>PER</td>\n",
       "    </tr>\n",
       "  </tbody>\n",
       "</table>\n",
       "<p>5574 rows × 2 columns</p>\n",
       "</div>"
      ],
      "text/plain": [
       "                                         text entity_type\n",
       "0                            Gymnasieportalen         LOC\n",
       "1     Whistleblowerordning Profil Strategi AU         ORG\n",
       "2                    Bæredygtighed Campus 2.0         ORG\n",
       "3                                     AU Job-         ORG\n",
       "4                                          AU         ORG\n",
       "...                                       ...         ...\n",
       "5569                       Brian Bech Nielsen         PER\n",
       "5570                         Jubilæumsfondens         ORG\n",
       "5571             H.K.H. Dronning Margrethe II         PER\n",
       "5572                               Berit Eika         PER\n",
       "5573                               Berit Eika         PER\n",
       "\n",
       "[5574 rows x 2 columns]"
      ]
     },
     "execution_count": 26,
     "metadata": {},
     "output_type": "execute_result"
    }
   ],
   "source": [
    "import spacy\n",
    "\n",
    "# load the spacy pipeline\n",
    "nlp = spacy.load(\"da_core_news_lg\")\n",
    "\n",
    "# feed the 'text' column to the model\n",
    "docs = nlp.pipe(data[\"text\"])\n",
    "\n",
    "# extract named entities\n",
    "entities_and_types = []\n",
    "for webpages in docs:\n",
    "    for entity in webpages.ents:\n",
    "        entities_and_types.append((entity.text, entity.label_))\n",
    "\n",
    "# create a dataframe\n",
    "entities_and_types_df = pd.DataFrame(entities_and_types, columns=[\"text\", \"entity_type\"])\n",
    "\n",
    "entities_and_types_df\n"
   ]
  },
  {
   "attachments": {},
   "cell_type": "markdown",
   "metadata": {},
   "source": [
    "There we go - we now have a dataframe of all the named entities in our sample of webpages along with their entity type. Luckily, they seem to make sense - Brian Bech Nielsen and Dronning Margrete are both people, and AU is an organization. A few cases seem to be artefacts of the scraping procedure that weren't cleaned entirely. For instance, \"Whisteblowerordning Profil Strategi AU\" looks like a header from a webpage rather than an organization. \n",
    "\n",
    "Let's do a bit of exploratory data analysis to get a feel for the entities in the data."
   ]
  },
  {
   "cell_type": "code",
   "execution_count": 28,
   "metadata": {},
   "outputs": [
    {
     "data": {
      "text/plain": [
       "<Axes: ylabel='entity_type'>"
      ]
     },
     "execution_count": 28,
     "metadata": {},
     "output_type": "execute_result"
    },
    {
     "data": {
      "image/png": "[encoded data removed]",
      "text/plain": [
       "<Figure size 600x600 with 1 Axes>"
      ]
     },
     "metadata": {},
     "output_type": "display_data"
    }
   ],
   "source": [
    "# plot proportion of each entity\n",
    "entities_and_types_df[\"entity_type\"].value_counts().plot(kind=\"pie\", figsize=(6, 6), autopct='%1.1f%%')"
   ]
  },
  {
   "cell_type": "code",
   "execution_count": 22,
   "metadata": {},
   "outputs": [
    {
     "data": {
      "text/plain": [
       "Aarhus Universitet                         334\n",
       "AU                                         294\n",
       "Bæredygtighed Campus 2.0                   132\n",
       "AU Job-                                    122\n",
       "Gymnasieportalen                           121\n",
       "Whistleblowerordning Profil Strategi AU    121\n",
       "Aarhus Universitets                         77\n",
       "danske                                      71\n",
       "Danmark                                     57\n",
       "Health                                      50\n",
       "Name: text, dtype: int64"
      ]
     },
     "execution_count": 22,
     "metadata": {},
     "output_type": "execute_result"
    }
   ],
   "source": [
    "# find 10 most common entities\n",
    "entities_and_types_df[\"text\"].value_counts().head(10)"
   ]
  },
  {
   "attachments": {},
   "cell_type": "markdown",
   "metadata": {},
   "source": [
    "### Challenge\n",
    "**Execution:**\n",
    "* Rerun the analysis but with a different sample of the data. Are the results stable?\n",
    "* Rerun the analysis with a different dataset. Are the results similar? \n",
    "\n",
    "**Reflection:**\n",
    "* What use-cases do you see for named entity recognition in your organization? \n",
    "\n",
    "\n",
    "<details>\n",
    "<summary>Some examples to get you thinking</summary></br>\n",
    "Analysing named entities by webpage instead of across all pages. </br>\n",
    "</br> Finding the entities a Twitter user engages with the most <br>\n",
    "</br> Defining organization specific entities to extract <br>\n",
    "</br> \n",
    "</details>\n",
    "\n"
   ]
  },
  {
   "cell_type": "markdown",
   "metadata": {},
   "source": []
  },
  {
   "cell_type": "markdown",
   "metadata": {},
   "source": []
  }
 ],
 "metadata": {
  "kernelspec": {
   "display_name": "Python 3",
   "language": "python",
   "name": "python3"
  },
  "language_info": {
   "codemirror_mode": {
    "name": "ipython",
    "version": 3
   },
   "file_extension": ".py",
   "mimetype": "text/x-python",
   "name": "python",
   "nbconvert_exporter": "python",
   "pygments_lexer": "ipython3",
   "version": "3.10.7"
  },
  "orig_nbformat": 4
 },
 "nbformat": 4,
 "nbformat_minor": 2
}
