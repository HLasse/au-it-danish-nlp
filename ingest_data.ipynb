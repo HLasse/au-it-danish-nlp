{
 "cells": [
  {
   "cell_type": "code",
   "execution_count": 2,
   "metadata": {},
   "outputs": [
    {
     "name": "stdout",
     "output_type": "stream",
     "text": [
      "Defaulting to user installation because normal site-packages is not writeable\n",
      "Collecting pandas\n",
      "  Downloading pandas-2.0.2-cp310-cp310-manylinux_2_17_x86_64.manylinux2014_x86_64.whl (12.3 MB)\n",
      "\u001b[2K     \u001b[90m━━━━━━━━━━━━━━━━━━━━━━━━━━━━━━━━━━━━━━━━\u001b[0m \u001b[32m12.3/12.3 MB\u001b[0m \u001b[31m36.1 MB/s\u001b[0m eta \u001b[36m0:00:00\u001b[0m00:01\u001b[0m0:01\u001b[0m\n",
      "\u001b[?25hRequirement already satisfied: python-dateutil>=2.8.2 in /home/ucloud/.local/lib/python3.10/site-packages (from pandas) (2.8.2)\n",
      "Collecting pytz>=2020.1 (from pandas)\n",
      "  Downloading pytz-2023.3-py2.py3-none-any.whl (502 kB)\n",
      "\u001b[2K     \u001b[90m━━━━━━━━━━━━━━━━━━━━━━━━━━━━━━━━━━━━━━━\u001b[0m \u001b[32m502.3/502.3 kB\u001b[0m \u001b[31m3.2 MB/s\u001b[0m eta \u001b[36m0:00:00\u001b[0m00:01\u001b[0m\n",
      "\u001b[?25hCollecting tzdata>=2022.1 (from pandas)\n",
      "  Downloading tzdata-2023.3-py2.py3-none-any.whl (341 kB)\n",
      "\u001b[2K     \u001b[90m━━━━━━━━━━━━━━━━━━━━━━━━━━━━━━━━━━━━━━━\u001b[0m \u001b[32m341.8/341.8 kB\u001b[0m \u001b[31m4.8 MB/s\u001b[0m eta \u001b[36m0:00:00\u001b[0m00:01\u001b[0m\n",
      "\u001b[?25hRequirement already satisfied: numpy>=1.21.0 in /home/ucloud/.local/lib/python3.10/site-packages (from pandas) (1.25.0)\n",
      "Requirement already satisfied: six>=1.5 in /usr/lib/python3/dist-packages (from python-dateutil>=2.8.2->pandas) (1.16.0)\n",
      "Installing collected packages: pytz, tzdata, pandas\n",
      "Successfully installed pandas-2.0.2 pytz-2023.3 tzdata-2023.3\n",
      "Note: you may need to restart the kernel to use updated packages.\n"
     ]
    }
   ],
   "source": [
    "pip install pandas"
   ]
  },
  {
   "cell_type": "code",
   "execution_count": 22,
   "metadata": {},
   "outputs": [
    {
     "name": "stdout",
     "output_type": "stream",
     "text": [
      "/work/795173/deduped/au.dk_deduped.ndjson\n"
     ]
    }
   ],
   "source": [
    "from pathlib import Path\n",
    "import os\n",
    "base_path = Path(os.path.abspath(\"\")).parent\n",
    "data_path = base_path / \"795173\" / \"deduped\" / \"au.dk_deduped.ndjson\"\n",
    "\n",
    "print(data_path)"
   ]
  },
  {
   "cell_type": "code",
   "execution_count": 23,
   "metadata": {},
   "outputs": [
    {
     "data": {
      "text/plain": [
       "'Samarbejde med forskere Samarbejde med studerende Gymnasier Gymnasieportalen Det rullende universitet Myndigheder Myndighedsrådgivning Samarbejde Om AU Organisation Fakulteter Institutter Centre Ledelse Administration Organisationsdiagram Kontakt Bygningskort Kontaktoplysninger Telefon, e-mail og adresser for alle ansatte Whistleblowerordning Profil Strategi AU i tal Internationalt samarbejde Bæredygtighed Campus 2.0 Job Ledige stillinger på AU Job- og projektbank for studerende og nyuddannede Om AU Du er her: AU Nyheder Strålende forskning modtog hæder En af landets ældste og fornemste videnskabspriser, Rigmor og Carl Holst-Knudsens Videnskabspris, blev overrakt til professor Ann Wenzel for hendes karrierelange pionerarbejde inden for oral radiologi. Ved samme ceremoni overrakte Aarhus Universitets Forskningsfond årets talentpriser til fem unge forskningstalenter. Prismodtager, professor Ann Wenzel. Foto: Lars Kruse, AU Foto Foto: Lars Kruse, AU Foto 29. maj 2019 af Rasmus Rørbæk Landsretssagfører Carl Holst-Knudsen så med fra sit portræt, da rektor Brian Bech Nielsen bød de mange gæster velkommen i en festpyntet Aula med ordene: ”AU har en spændende, begivenhedsrig og ikke mindst levende fortid. Det har vi først og fremmest, fordi vi passer godt på den. Vi passer på vores bygninger og Universitetsparken – og vi holder vores traditioner i hævd. Derfor er Holst-Knudsen-fejringen noget helt specielt. Her skaber vi en direkte forbindelse til vores fortid – og til to af de personer, som havde størst betydning for, at Aarhus overhovedet fik et universitet,” sagde rektor Brian Bech Nielsen, da han bød velkommen til dette års ceremoni. Herefter fik dekan Lars Bo Nielsen ordet for at præsentere dette års modtager: tandlæge og professor Ann Wenzel fra Institut for Odontologi og Oral Sundhed. ” Det er mig en meget stor glæde at forestå overrækkelsen af denne flotte videnskabspris. Du er en pioner inden for dit felt, og dit arbejde kommer til gavn for forskningen og patienterne verden over. I dag har vi mulighed for at forbedre diagnostik, behandling og forebyggelse takket være det. Du bliver tildelt prisen for mere end 40 års dedikeret forskning, der har haft betydning over hele verden – og ikke mindst for Aarhus Universitet,” sagde dekan Lars Bo Nielsen. Herefter fik Ann Wenzel ordet, som hun brugte til at give et veloplagt foredrag om sit arbejde, der slet og ret havde titlen: Strålekraft! Wenzel gennemgik farerne ved den øgede eksponering af stråler ved nye skanningsmetoder og udpegede den ganske håndgribelige udfordring, det er at foretage skanninger af børn, der ikke kan sidde stille nok i stolen til at give et brugbart billede under skanningen. Her har Ann Wenzel været en central del i at udvikle et apparat, det første og eneste af sin art i verden, der kan kompensere for barnets små ryk og give et knivskarpt billede af tandsæt. Prismodtageren sluttede sit oplæg til store klapsalver med ordene: ”Så det går strålende på Aarhus Universitet.” Talenter i stort, småt og vådt Ved prisoverrækkelsen uddelte Aarhus Universitets Forskningsfond sin talentpris til fem ph.d.er, som har gjort sig ganske særligt bemærket, både med deres resultater og med den måde, de har formidlet dem på. Prorektor Berit Eika tog tråden op fra rektors tale ved at kæde fortid og fremtid sammen til et hele, da hun præsenterede de fem modtagere. ” Universitetet er fyldt med talentfulde unge mennesker, der trækker os fremad. Det er vigtigt at huske vores fortid og også huske at anerkende de unge mennesker, der vil tegne vores fremtid,” sagde Berit Eika, inden de fem talenter en efter en fik overrakt prisen, og hver gav et kort indblik i deres forskningsområder. Pierre du Plessis har studeret landskabet i Kalahari set med det indfødte San-folks øjne og giver nye perspektiver på, hvordan mennesket sameksisterer med naturen. Bo Langhoff Hønge har forsket i de to typer af hiv-virus og undervejs bl.a. identificeret en forbedret metode til optøning af nedfrosne blodprøver. Kristina Korning Wedege har bl.a. forsket i at erstatte metaller i store flowbatterier med organiske stoffer. Alexander Holm Kiilerich har bidraget til en markant forbedring af præcisionen ved måling med kvantesensorer. Suthan Krishnarajan har undersøgt, hvad der gør udslaget, hvis en økonomisk krise påvirker den politiske stabilitet i et land. Læs mere om prismodtager Ann Wenzel Se video om og med Ann Wenzel Læs mere om de fem ph.d.-modtageres forskning Hvem var Carl Holst-Knudsen - se video Nyheder fra fakulteterne Arts - Kultur, sprog, pædagogik og medier Aarhus BSS - Erhverv og samfund Health - Sundhed og sygdom Natural Sciences - Naturvidenskab Technical Sciences - Agro-, miljø- og ingeniørvidensskab Nyt fra Aarhus Institute of Advanced Studies Revideret 31.05.2023 - Webredaktionen, Universitetsledelsens Stab Aarhus Universitet Nordre Ringgade 1 8000 Aarhus Email: au@au.dk Tlf: 8715 0000 CVR-nr: 31119103 EORI-nummer: DK-31119103 EAN-numre: www.au.dk/eannumre Om os Profil Institutter Fakulteter Kontakt og kort Ledige stillinger Uddannelser på AU Bachelor Kandidat Ingeniør Ph.d. Efter- og videreuddannelse Genveje Bibliotek Studieportal Ph.d.-portal Medarbejderportal Alumneportal © — Cookies på au.dk Privatlivspolitik Tilgængelighedserklæring 1445536 / i40\\n'"
      ]
     },
     "execution_count": 23,
     "metadata": {},
     "output_type": "execute_result"
    }
   ],
   "source": [
    "import pandas as pd\n",
    "df = pd.read_json(data_path, lines=True)\n",
    "df[\"text\"][5]"
   ]
  }
 ],
 "metadata": {
  "kernelspec": {
   "display_name": "Python 3",
   "language": "python",
   "name": "python3"
  },
  "language_info": {
   "codemirror_mode": {
    "name": "ipython",
    "version": 3
   },
   "file_extension": ".py",
   "mimetype": "text/x-python",
   "name": "python",
   "nbconvert_exporter": "python",
   "pygments_lexer": "ipython3",
   "version": "3.10.7"
  },
  "orig_nbformat": 4
 },
 "nbformat": 4,
 "nbformat_minor": 2
}
